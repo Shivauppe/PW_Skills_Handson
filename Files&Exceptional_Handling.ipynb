{
  "nbformat": 4,
  "nbformat_minor": 0,
  "metadata": {
    "colab": {
      "provenance": []
    },
    "kernelspec": {
      "name": "python3",
      "display_name": "Python 3"
    },
    "language_info": {
      "name": "python"
    }
  },
  "cells": [
    {
      "cell_type": "markdown",
      "source": [
        "### **Discuss the scenarios where multithreading is preferable to multiprocessing and scenarios where multiprocessing is a better choice.**\n",
        "\n",
        "\n",
        "**When to Use Multithreading:**\n",
        "\n",
        "I/O-Bound Tasks: Efficient for tasks like file I/O, network requests, or database queries.\n",
        "Shared Memory: Threads share memory space, making data sharing faster.\n",
        "Low Resource Usage: Ideal for high concurrency with minimal overhead.\n",
        "GIL-Constrained Languages: In Python, great for I/O tasks due to the Global\n",
        "Interpreter Lock.\n",
        "\n",
        "**When to Use Multiprocessing:**\n",
        "\n",
        "CPU-Bound Tasks: Best for heavy computations like simulations or data processing.\n",
        "Full Core Utilization: Runs separate processes on multiple CPU cores, bypassing the GIL.\n",
        "\n",
        "Task Isolation: More robust as processes run independently.\n",
        "Fault Tolerance: Failures in one process don’t affect others.\n",
        "\n",
        "**In short:**\n",
        "\n",
        "Multithreading: Lightweight, shared memory, great for I/O.\n",
        "Multiprocessing: Heavy computation, independent tasks, robust."
      ],
      "metadata": {
        "id": "pSYOWqh6aVwy"
      }
    },
    {
      "cell_type": "markdown",
      "source": [
        "### **Describe what a process pool is and how it helps in managing multiple processes efficiently.**\n",
        "\n",
        "A process pool is a collection of worker processes that are pre-spawned and managed for executing tasks in parallel. It is a part of parallel programming frameworks, such as Python's multiprocessing.Pool or similar constructs in other programming languages.\n",
        "\n",
        "**Key Features of a Process Pool:**\n",
        "Pre-spawned Processes:\n",
        "\n",
        "Processes are created at initialization, avoiding the overhead of repeatedly spawning and destroying processes for each task.\n",
        "Task Queue Management:\n",
        "\n",
        "Tasks are placed in a queue, and the pool assigns them to idle processes for execution.\n",
        "Worker Reuse:\n",
        "\n",
        "Once a process completes a task, it becomes available to handle another task, ensuring efficient resource utilization.\n",
        "Simplified Interface:\n",
        "\n",
        "Process pools abstract away the complexity of managing individual processes, providing easy-to-use methods for task submission (e.g., apply, map, or apply_async in Python).\n",
        "How a Process Pool Improves Efficiency:\n",
        "Reduced Overhead:\n",
        "\n",
        "Eliminates the cost of repeatedly creating and destroying processes for individual tasks.\n",
        "Parallel Execution:\n",
        "\n",
        "Utilizes multiple CPU cores effectively by distributing tasks across the processes in the pool.\n",
        "Load Balancing:\n",
        "\n",
        "Dynamically assigns tasks to available workers, ensuring balanced workload distribution.\n",
        "Fault Isolation:\n",
        "\n",
        "If a worker process fails, the pool can restart it without disrupting other workers.\n",
        "Scalability:\n",
        "\n",
        "Easily scales to the number of CPU cores or desired level of parallelism by configuring the pool size.\n",
        "\n",
        "**Use Case Example:**\n",
        "\n",
        "A process pool is ideal for scenarios like:\n",
        "\n",
        "Processing a large dataset by dividing it into chunks and parallelizing the computation.\n",
        "Performing multiple independent computations simultaneously, such as in scientific simulations or image processing.\n",
        "In summary, a process pool simplifies and optimizes the management of multiple processes, allowing for efficient parallel execution of tasks."
      ],
      "metadata": {
        "id": "bhUDBwpoY33G"
      }
    },
    {
      "cell_type": "markdown",
      "source": [
        "### **Explain what multiprocessing is and why it is used in Python programs.**\n",
        "\n",
        "**What is Multiprocessing?**\n",
        "\n",
        "Multiprocessing is a programming technique that allows a program to create and manage multiple independent processes to execute tasks concurrently. Each process runs in its own memory space and can operate on separate CPU cores, enabling true parallelism.\n",
        "\n",
        "**Why Use Multiprocessing in Python?**\n",
        "Bypassing the Global Interpreter Lock (GIL):\n",
        "\n",
        "Python's GIL limits multithreading by allowing only one thread to execute Python bytecode at a time.\n",
        "Multiprocessing creates separate processes, each with its own Python interpreter and GIL, enabling full CPU utilization.\n",
        "Utilizing Multiple Cores:\n",
        "\n",
        "Modern CPUs have multiple cores, and multiprocessing allows programs to leverage them for parallel execution, significantly speeding up CPU-bound tasks.\n",
        "Handling CPU-Bound Tasks:\n",
        "\n",
        "Ideal for computationally intensive operations like simulations, data analysis, and image processing.\n",
        "Task Isolation:\n",
        "\n",
        "Each process has its own memory, reducing the risk of conflicts or data corruption from shared state.\n",
        "Scalability and Fault Tolerance:\n",
        "\n",
        "**Processes are independent;** failure in one process doesn’t impact others, making applications more robust.\n",
        "\n",
        "Example Use Cases:\n",
        "\n",
        "1.Scientific computations or simulations.\n",
        "2.Processing large datasets in chunks.\n",
        "3.Machine learning model training.\n",
        "4.Rendering graphics or videos in parallel.\n",
        "\n",
        "In summary, multiprocessing in Python is used to achieve true parallelism, maximize CPU utilization, and improve performance for tasks that are computation-heavy or benefit from isolation.\n"
      ],
      "metadata": {
        "id": "l6_f8YxtZPNW"
      }
    },
    {
      "cell_type": "code",
      "source": [
        "#4. Write a Python program using multithreading where one thread adds numbers to a list, and anotherthread removes numbers from the list. Implement a mechanism to avoid race conditions using threading.Lock.\n",
        "\n",
        "import threading\n",
        "import time\n",
        "import random\n",
        "\n",
        "# Shared list and lock\n",
        "shared_list = []\n",
        "list_lock = threading.Lock()\n",
        "\n",
        "def add_numbers():\n",
        "    \"\"\"Thread function to add numbers to the list.\"\"\"\n",
        "    for i in range(10):\n",
        "        with list_lock:\n",
        "            number = random.randint(1, 100)\n",
        "            shared_list.append(number)\n",
        "            print(f\"Added: {number} | List: {shared_list}\")\n",
        "        time.sleep(random.uniform(0.1, 0.5))  # Simulate variable workload\n",
        "\n",
        "def remove_numbers():\n",
        "    \"\"\"Thread function to remove numbers from the list.\"\"\"\n",
        "    for _ in range(10):\n",
        "        with list_lock:\n",
        "            if shared_list:\n",
        "                removed = shared_list.pop(0)\n",
        "                print(f\"Removed: {removed} | List: {shared_list}\")\n",
        "            else:\n",
        "                print(\"Nothing to remove; list is empty.\")\n",
        "        time.sleep(random.uniform(0.1, 0.5))  # Simulate variable workload\n",
        "\n",
        "# Create threads\n",
        "adder_thread = threading.Thread(target=add_numbers)\n",
        "remover_thread = threading.Thread(target=remove_numbers)\n",
        "\n",
        "# Start threads\n",
        "adder_thread.start()\n",
        "remover_thread.start()\n",
        "\n",
        "# Wait for threads to complete\n",
        "adder_thread.join()\n",
        "remover_thread.join()\n",
        "\n",
        "print(\"Final list:\", shared_list)\n"
      ],
      "metadata": {
        "colab": {
          "base_uri": "https://localhost:8080/"
        },
        "id": "7EavgfAjbM6_",
        "outputId": "15883373-bd3a-40c8-a5f9-c8da2375b6ce"
      },
      "execution_count": null,
      "outputs": [
        {
          "output_type": "stream",
          "name": "stdout",
          "text": [
            "Added: 65 | List: [65]\n",
            "Removed: 65 | List: []\n",
            "Nothing to remove; list is empty.\n",
            "Added: 48 | List: [48]\n",
            "Added: 52 | List: [48, 52]\n",
            "Removed: 48 | List: [52]\n",
            "Removed: 52 | List: []\n",
            "Added: 62 | List: [62]\n",
            "Removed: 62 | List: []\n",
            "Added: 10 | List: [10]\n",
            "Removed: 10 | List: []\n",
            "Added: 84 | List: [84]\n",
            "Removed: 84 | List: []\n",
            "Nothing to remove; list is empty.\n",
            "Added: 36 | List: [36]\n",
            "Removed: 36 | List: []\n",
            "Added: 71 | List: [71]\n",
            "Removed: 71 | List: []\n",
            "Added: 50 | List: [50]\n",
            "Added: 33 | List: [50, 33]\n",
            "Final list: [50, 33]\n"
          ]
        }
      ]
    },
    {
      "cell_type": "markdown",
      "source": [
        "### **5. Describe the methods and tools available in Python for safely sharing data between threads and processes.**\n",
        "\n",
        "1. For Threads (Shared Memory):\n",
        "Threads share the same memory space, so thread-safe mechanisms are necessary to prevent race conditions.\n",
        "\n",
        "Key Methods and Tools:\n",
        "threading.Lock:\n",
        "\n",
        "Ensures that only one thread can access a critical section of code at a time.\n",
        "Example: Protecting shared resources like lists or counters.\n",
        "threading.RLock (Reentrant Lock):\n",
        "\n",
        "Similar to Lock but can be acquired multiple times by the same thread without causing a deadlock.\n",
        "threading.Semaphore:\n",
        "\n",
        "Limits the number of threads that can access a shared resource simultaneously.\n",
        "threading.Condition:\n",
        "\n",
        "Used for thread synchronization, allowing threads to wait until a specific condition is met.\n",
        "threading.Queue:\n",
        "\n",
        "A thread-safe FIFO queue for exchanging data between threads.\n",
        "Example: Producer-consumer scenarios.\n",
        "\n",
        "\n",
        "2. For Processes (Separate Memory):\n",
        "Processes do not share memory directly, so inter-process communication (IPC) mechanisms are used.\n",
        "\n",
        "Key Methods and Tools:\n",
        "multiprocessing.Queue:\n",
        "\n",
        "A thread- and process-safe queue for passing data between processes.\n",
        "multiprocessing.Pipe:\n",
        "\n",
        "A two-way communication channel for exchanging data between two processes.\n",
        "multiprocessing.Value and multiprocessing.Array:\n",
        "\n",
        "Provide shared memory for simple data types (Value) or arrays (Array) that can be accessed by multiple processes.\n",
        "Example: Sharing a counter across processes.\n",
        "multiprocessing.Manager:\n",
        "\n",
        "Provides shared objects like lists, dictionaries, and namespaces that can be safely accessed by multiple processes.\n",
        "multiprocessing.Lock and multiprocessing.Semaphore:\n",
        "\n",
        "Similar to threading locks, but for synchronizing access to shared resources across processes.\n",
        "concurrent.futures.ProcessPoolExecutor:\n",
        "\n",
        "A high-level interface for managing and executing tasks in a pool of processes, implicitly handling data sharing and synchronization.\n",
        "\n",
        "3. Common Techniques:\n",
        "Avoid Shared State:\n",
        "\n",
        "Wherever possible, design programs to avoid sharing data directly and use message-passing mechanisms like queues.\n",
        "Immutable Data:\n",
        "\n",
        "Use immutable objects (e.g., tuples) to avoid unintended modifications.\n",
        "Atomic Operations:\n",
        "\n",
        "For simple counters or flags, use atomic operations provided by libraries like threading or multiprocessing."
      ],
      "metadata": {
        "id": "D4TLdk_7blDM"
      }
    },
    {
      "cell_type": "markdown",
      "source": [
        "### **6. Discuss why it’s crucial to handle exceptions in concurrent programs and the techniques available for doing so.**\n",
        "\n",
        "Stability: Prevent crashes or unexpected behavior when errors occur.\n",
        "Resource Management: Avoid resource leaks (e.g., locks, files).\n",
        "Debugging: Ensure errors are logged and visible for diagnosis.\n",
        "Fault Isolation: Prevent errors in one thread/process from affecting others.\n",
        "Graceful Recovery: Allow the program to recover or exit cleanly."
      ],
      "metadata": {
        "id": "StgfzT8rcIsU"
      }
    },
    {
      "cell_type": "code",
      "source": [
        "#Techniques for Exception Handling\n",
        "#1. Threads: Use Try-Except Blocks\n",
        "\n",
        "import threading\n",
        "\n",
        "def thread_function():\n",
        "    try:\n",
        "        raise ValueError(\"Thread error!\")\n",
        "    except Exception as e:\n",
        "        print(f\"Thread exception: {e}\")\n",
        "\n",
        "thread = threading.Thread(target=thread_function)\n",
        "thread.start()\n",
        "thread.join()\n"
      ],
      "metadata": {
        "colab": {
          "base_uri": "https://localhost:8080/"
        },
        "id": "Kz1nfYaocfAb",
        "outputId": "27f30b14-d44c-4b60-8a95-fd60bd61229a"
      },
      "execution_count": null,
      "outputs": [
        {
          "output_type": "stream",
          "name": "stdout",
          "text": [
            "Thread exception: Thread error!\n"
          ]
        }
      ]
    },
    {
      "cell_type": "code",
      "source": [
        "#2. ThreadPoolExecutor: Automatically Handle Exceptions\n",
        "from concurrent.futures import ThreadPoolExecutor\n",
        "\n",
        "def task():\n",
        "    raise ValueError(\"Task error!\")\n",
        "\n",
        "with ThreadPoolExecutor() as executor:\n",
        "    future = executor.submit(task)\n",
        "    try:\n",
        "        future.result()\n",
        "    except Exception as e:\n",
        "        print(f\"ThreadPool exception: {e}\")\n"
      ],
      "metadata": {
        "colab": {
          "base_uri": "https://localhost:8080/"
        },
        "id": "jliExaqVcsEZ",
        "outputId": "bf13eee1-022b-4243-b788-36ab1967f4ed"
      },
      "execution_count": null,
      "outputs": [
        {
          "output_type": "stream",
          "name": "stdout",
          "text": [
            "ThreadPool exception: Task error!\n"
          ]
        }
      ]
    },
    {
      "cell_type": "code",
      "source": [
        "#3. Processes: Use Try-Except in Process Function\n",
        "import multiprocessing\n",
        "\n",
        "def process_function():\n",
        "    try:\n",
        "        raise ValueError(\"Process error!\")\n",
        "    except Exception as e:\n",
        "        print(f\"Process exception: {e}\")\n",
        "\n",
        "process = multiprocessing.Process(target=process_function)\n",
        "process.start()\n",
        "process.join()\n"
      ],
      "metadata": {
        "colab": {
          "base_uri": "https://localhost:8080/"
        },
        "id": "3IJ1Wobcc0zP",
        "outputId": "07120d7c-6399-477e-e8c3-06c1381f894e"
      },
      "execution_count": null,
      "outputs": [
        {
          "output_type": "stream",
          "name": "stdout",
          "text": [
            "Process exception: Process error!\n"
          ]
        }
      ]
    },
    {
      "cell_type": "code",
      "source": [
        "#4. ProcessPoolExecutor: Propagate Exceptions\n",
        "from concurrent.futures import ProcessPoolExecutor\n",
        "\n",
        "def process_task():\n",
        "    raise ValueError(\"ProcessPool error!\")\n",
        "\n",
        "with ProcessPoolExecutor() as executor:\n",
        "    future = executor.submit(process_task)\n",
        "    try:\n",
        "        future.result()\n",
        "    except Exception as e:\n",
        "        print(f\"ProcessPool exception: {e}\")\n"
      ],
      "metadata": {
        "colab": {
          "base_uri": "https://localhost:8080/"
        },
        "id": "6KrZ-us4c9_k",
        "outputId": "4e8b8b90-f8aa-4adb-c1af-7be7a788344f"
      },
      "execution_count": null,
      "outputs": [
        {
          "output_type": "stream",
          "name": "stdout",
          "text": [
            "ProcessPool exception: ProcessPool error!\n"
          ]
        }
      ]
    },
    {
      "cell_type": "code",
      "source": [
        "#7. Create a program that uses a thread pool to calculate the factorial of numbers from 1 to 10 concurrently.Use concurrent.futures.ThreadPoolExecutor to manage the threads.\n",
        "from concurrent.futures import ThreadPoolExecutor\n",
        "import math\n",
        "\n",
        "def calculate_factorial(n):\n",
        "    \"\"\"Function to calculate factorial of a number.\"\"\"\n",
        "    print(f\"Calculating factorial of {n}\")\n",
        "    return math.factorial(n)\n",
        "\n",
        "def main():\n",
        "    numbers = range(1, 11)  # Numbers from 1 to 10\n",
        "\n",
        "    # Use ThreadPoolExecutor to manage threads\n",
        "    with ThreadPoolExecutor() as executor:\n",
        "        # Submit tasks to the thread pool\n",
        "        results = executor.map(calculate_factorial, numbers)\n",
        "\n",
        "    # Print results\n",
        "    for number, factorial in zip(numbers, results):\n",
        "        print(f\"Factorial of {number} is {factorial}\")\n",
        "\n",
        "if __name__ == \"__main__\":\n",
        "    main()\n",
        "\n",
        "#This program calculates factorials concurrently, improving performance for larger numbers or more extensive ranges.\n"
      ],
      "metadata": {
        "colab": {
          "base_uri": "https://localhost:8080/"
        },
        "id": "a8VL0uSmdN28",
        "outputId": "cc928c67-70e2-4f03-8ce9-0479d8ba4fc8"
      },
      "execution_count": null,
      "outputs": [
        {
          "output_type": "stream",
          "name": "stdout",
          "text": [
            "Calculating factorial of 1\n",
            "Calculating factorial of 2\n",
            "Calculating factorial of 3\n",
            "Calculating factorial of 4\n",
            "Calculating factorial of 5\n",
            "Calculating factorial of 6\n",
            "Calculating factorial of 7\n",
            "Calculating factorial of 8\n",
            "Calculating factorial of 9\n",
            "Calculating factorial of 10\n",
            "Factorial of 1 is 1\n",
            "Factorial of 2 is 2\n",
            "Factorial of 3 is 6\n",
            "Factorial of 4 is 24\n",
            "Factorial of 5 is 120\n",
            "Factorial of 6 is 720\n",
            "Factorial of 7 is 5040\n",
            "Factorial of 8 is 40320\n",
            "Factorial of 9 is 362880\n",
            "Factorial of 10 is 3628800\n"
          ]
        }
      ]
    },
    {
      "cell_type": "code",
      "source": [
        "#8. Create a Python program that uses multiprocessing.Pool to compute the square of numbers from 1 to 10 in parallel. Measure the time taken to perform this computation using a pool of different sizes (e.g., 2, 4, 8 processes).\n",
        "import multiprocessing\n",
        "import time\n",
        "\n",
        "def square(n):\n",
        "    \"\"\"Function to compute the square of a number.\"\"\"\n",
        "    return n * n\n",
        "\n",
        "def compute_squares(pool_size):\n",
        "    \"\"\"Function to compute squares using a pool of processes.\"\"\"\n",
        "    with multiprocessing.Pool(pool_size) as pool:\n",
        "        # Map the function 'square' to the numbers 1 to 10\n",
        "        result = pool.map(square, range(1, 11))\n",
        "    return result\n",
        "\n",
        "def main():\n",
        "    for pool_size in [2, 4, 8]:\n",
        "        start_time = time.time()\n",
        "        result = compute_squares(pool_size)\n",
        "        end_time = time.time()\n",
        "        print(f\"Results with pool size {pool_size}: {result}\")\n",
        "        print(f\"Time taken with pool size {pool_size}: {end_time - start_time:.4f} seconds\\n\")\n",
        "\n",
        "if __name__ == \"__main__\":\n",
        "    main()\n",
        "\n",
        "#How It Works:\n",
        "# The program computes the squares of numbers from 1 to 10 in parallel using a pool of processes.\n",
        "# The time taken is measured for each pool size, allowing you to compare performance with different levels of parallelism.\n",
        "# Larger pool sizes generally show better performance, but there is an overhead for process creation, so beyond a certain number of processes, the time may not improve significantly.\n",
        "# This program demonstrates how to manage multiple processes with different pool sizes to understand the impact of parallelization on performance."
      ],
      "metadata": {
        "colab": {
          "base_uri": "https://localhost:8080/"
        },
        "id": "R6k5EVCddQKH",
        "outputId": "edb5b9f4-855a-4b0f-ca7e-91cf81a59a11"
      },
      "execution_count": null,
      "outputs": [
        {
          "output_type": "stream",
          "name": "stdout",
          "text": [
            "Results with pool size 2: [1, 4, 9, 16, 25, 36, 49, 64, 81, 100]\n",
            "Time taken with pool size 2: 0.0402 seconds\n",
            "\n",
            "Results with pool size 4: [1, 4, 9, 16, 25, 36, 49, 64, 81, 100]\n",
            "Time taken with pool size 4: 0.0864 seconds\n",
            "\n",
            "Results with pool size 8: [1, 4, 9, 16, 25, 36, 49, 64, 81, 100]\n",
            "Time taken with pool size 8: 0.1414 seconds\n",
            "\n"
          ]
        }
      ]
    },
    {
      "cell_type": "code",
      "source": [],
      "metadata": {
        "id": "UMhj2XA6dzop"
      },
      "execution_count": null,
      "outputs": []
    }
  ]
}